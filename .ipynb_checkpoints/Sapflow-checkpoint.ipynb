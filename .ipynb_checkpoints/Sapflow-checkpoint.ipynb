{
 "cells": [
  {
   "cell_type": "code",
   "execution_count": 2,
   "metadata": {
    "collapsed": false
   },
   "outputs": [],
   "source": [
    "# Sapflow Analysis iPython Notebook - Jesse Hahm - December 2015\n",
    "## Import required libraries\n",
    "\n",
    "import matplotlib.pyplot as plt\n",
    "#import mpld3\n",
    "import pandas as pd\n",
    "import glob\n",
    "from IPython.core.display import HTML\n",
    "import numpy as np\n",
    "import scipy as sp\n",
    "import functools\n",
    "%matplotlib qt\n",
    "import databaseQuery\n",
    "import readSapflow"
   ]
  },
  {
   "cell_type": "code",
   "execution_count": 3,
   "metadata": {
    "collapsed": false
   },
   "outputs": [],
   "source": [
    "## Read in the data as a pandas dataframe\n",
    "# Files should be .csv format in \\Data\\ subdirectory\n",
    "\n",
    "allFiles = ['RivSouth', 'RivNorth', 'SageSouth', 'SageNorth']\n",
    "\n",
    "#Return pandas dataframe with all the data, datetime index, cleared of logger-statistics\n",
    "#toggle saveCSV True/False to save a csv of the compiled data\n",
    "\n",
    "sapflow = readSapflow.readCSV(allFiles, saveCSV = False)\n"
   ]
  },
  {
   "cell_type": "code",
   "execution_count": 4,
   "metadata": {
    "collapsed": true
   },
   "outputs": [],
   "source": [
    "\n",
    "#upside down guy\n",
    "sapflow['SVP87022']=-sapflow['SVP87022']\n",
    "sapflow['SVP87022.1']=-sapflow['SVP87022.1']"
   ]
  },
  {
   "cell_type": "code",
   "execution_count": null,
   "metadata": {
    "collapsed": false
   },
   "outputs": [],
   "source": [
    "## Read in the metadata as a pandas dataframe\n",
    "metadata = pd.read_csv('Data\\sapflowMetadata.csv',sep=',')\n",
    "metadata.tail()\n",
    "#Read in zero flow times (found with script ZeroFlowTimes.py)\n",
    "rivZero = pd.read_csv('AngeloMeadowZeroFlowTimes.csv', header=None, parse_dates={\"datetime\" : [0]})\n",
    "sageZero = pd.read_csv('SagehornZeroFlowTimes.csv', header=None, parse_dates={\"datetime\" : [0]})\n",
    "rivZero.set_index('datetime', inplace=True)\n",
    "sageZero.set_index('datetime', inplace=True)\n",
    "\n",
    "#Create dictionaries between sensor label and metadata info; sensor label = column headers\n",
    "Location = metadata.set_index('CurrentSVP')['Location'].to_dict()\n",
    "Slope = metadata.set_index('CurrentSVP')['Slope'].to_dict()\n",
    "TreeID = metadata.set_index('CurrentSVP')['Tree ID'].to_dict()\n",
    "Species = metadata.set_index('CurrentSVP')['Species'].to_dict()\n",
    "Display = metadata.set_index('CurrentSVP')['Display'].to_dict()\n",
    "#Sensors =  list(metadata('CurrentSVP').values())\n"
   ]
  },
  {
   "cell_type": "code",
   "execution_count": null,
   "metadata": {
    "collapsed": false
   },
   "outputs": [],
   "source": [
    "#only one depth for now\n",
    "for sensor in sapflow.columns:\n",
    "    if not sensor in Location:   \n",
    "        sapflow.drop(sensor, axis=1, inplace=True)\n"
   ]
  },
  {
   "cell_type": "code",
   "execution_count": null,
   "metadata": {
    "collapsed": false
   },
   "outputs": [],
   "source": [
    "## Set date-time range of interest\n",
    "startDateTime = pd.to_datetime('2015-08-1 00:00:00')\n",
    "stopDateTime = pd.to_datetime('2016-02-15 00:00:00')\n",
    "sapflow = sapflow[(sapflow.index > startDateTime) \n",
    "                 &(sapflow.index < stopDateTime)]\n",
    "print sapflow.shape\n",
    "\n",
    "\n",
    "# ## Plot the data\n",
    "\n",
    "# nrows = len(sapflow.columns)\n",
    "\n",
    "# f, axarr = plt.subplots(nrows, sharex=True, figsize=(20, nrows*2))\n",
    "\n",
    "# for n in range(nrows):\n",
    "#     axarr[n].plot(sapflow.index, sapflow.iloc[:,n], \n",
    "#                   label = sapflow.iloc[:,n].name\n",
    "#                   + ', Location: ' + Location[sapflow.iloc[:,n].name]\n",
    "#                   + ', Slope: ' + Slope[sapflow.iloc[:,n].name]\n",
    "#                   + ', Species: ' + Species[sapflow.iloc[:,n].name]\n",
    "#                   + ', TreeID: ' + TreeID[sapflow.iloc[:,n].name])\n",
    "#     axarr[n].legend(bbox_to_anchor=(1, 1.2))\n",
    "#  #axarr[0].set_ylabel(\"Sapflow velocity [cm / hr]\")\n",
    "# plt.show()\n",
    "    \n",
    "\n"
   ]
  },
  {
   "cell_type": "code",
   "execution_count": null,
   "metadata": {
    "collapsed": false
   },
   "outputs": [],
   "source": [
    "#Get times when likely zero sap flow at both sites\n",
    "sapflowZerosRiv = sapflow.join(rivZero, how='inner')\n",
    "sapflowZerosSage = sapflow.join(sageZero, how='inner')\n",
    "\n",
    "#Get median value for each sensor \n",
    "medianZeroRiv = sapflowZerosRiv.median().to_dict()\n",
    "medianZeroSage = sapflowZerosSage.median().to_dict()\n",
    "\n",
    "#Single dictionary of median zero sap flow value by site\n",
    "medianZero = {}\n",
    "for column in sapflow:\n",
    "    if Location[column] == 'Rivendell':\n",
    "        medianZero[column] = medianZeroRiv[column]\n",
    "    if Location[column] == 'Sagehorn':\n",
    "        medianZero[column] = medianZeroSage[column]\n"
   ]
  },
  {
   "cell_type": "code",
   "execution_count": null,
   "metadata": {
    "collapsed": true
   },
   "outputs": [],
   "source": [
    "#procedure outlined in matlab code by \n",
    "#P Link, who followed excel worksheets by A Ambrose and Burgess et al Tree Phys. 2001\n",
    "import numpy as np\n",
    "# parameters\n",
    "k = 2.5e-3; # thermal diffusivity of fresh wood, cm^2/s, from Burgess 2001 - preliminary estimate, should be refined with measurements\n",
    "t = 80; # 80 seconds measurement time, from p.591 in Burgess 2001\n",
    "xnom = 0.6; # nominal probe spacing, in cm\n",
    "\n",
    "def correctionEq(zeroValue):\n",
    "    lnv1v2 = zeroValue*xnom/k/3600\n",
    "    x1 = np.sqrt(xnom**2-4*k*t*lnv1v2)\n",
    "    x2 = -np.sqrt(4*k*t*lnv1v2+xnom**2)\n",
    "    vrange = np.linspace(0,20,200)\n",
    "    lnv1v2 = vrange*xnom/3600/k\n",
    "    veloc1s = (4*k*t*lnv1v2-(-xnom)**2+x1**2)*3600/(2*t*(x1-(-xnom)))\n",
    "    veloc2s = (4*k*t*lnv1v2-(x2)**2+xnom**2)*3600/(2*t*(xnom-x2))\n",
    "    vrange_corr = (veloc1s+veloc2s)/2\n",
    "    p = np.polyfit(vrange,vrange_corr,1)\n",
    "    slope = p[0]\n",
    "    intercept = p[1]\n",
    "    return slope, intercept"
   ]
  },
  {
   "cell_type": "code",
   "execution_count": null,
   "metadata": {
    "collapsed": false
   },
   "outputs": [],
   "source": [
    "#LEVEL 4A = derived quantity: corrected for probe misplacement\n",
    "level4a = pd.DataFrame()\n",
    "slopes = {}\n",
    "intercepts = {}\n",
    "for column in sapflow:\n",
    "    slope, intercept = correctionEq(medianZero[column])\n",
    "    slopes[column] = slope\n",
    "    intercepts[column] = intercept\n",
    "    level4a[column] = sapflow[column]*slope + intercept"
   ]
  },
  {
   "cell_type": "code",
   "execution_count": null,
   "metadata": {
    "collapsed": false
   },
   "outputs": [],
   "source": [
    "%matplotlib inline\n",
    "plotData = level4a.copy()\n",
    "%matplotlib inline\n",
    "nrows = len(plotData.columns)\n",
    "f, axarr = plt.subplots(nrows, sharex=True, figsize=(20, nrows*2))\n",
    "\n",
    "for n in range(nrows):\n",
    "    if Display[plotData.iloc[:,n].name] == 'yes':\n",
    "        axarr[n].plot(plotData.index, plotData.iloc[:,n], \n",
    "                      label = plotData.iloc[:,n].name\n",
    "                      + ', Location: ' + Location[plotData.iloc[:,n].name]\n",
    "                      + ', Slope: ' + Slope[plotData.iloc[:,n].name]\n",
    "                      + ', Species: ' + Species[plotData.iloc[:,n].name]\n",
    "                      + ', TreeID: ' + TreeID[plotData.iloc[:,n].name])\n",
    "        axarr[n].legend(bbox_to_anchor=(1, 1.2))\n",
    " #axarr[0].set_ylabel(\"Sapflow velocity [cm / hr]\")\n",
    "plt.show()\n",
    "    \n"
   ]
  },
  {
   "cell_type": "code",
   "execution_count": null,
   "metadata": {
    "collapsed": false
   },
   "outputs": [],
   "source": [
    "#LEVEL 4B = remove values outside of acceptable ranges\n",
    "level4b = level4a[(level4a > -5) &\n",
    "                  (level4a < 50)]\n",
    "\n",
    "\n",
    "plotData = level4b.copy()\n",
    "%matplotlib inline\n",
    "nrows = len(plotData.columns)\n",
    "f, axarr = plt.subplots(nrows, sharex=True, figsize=(20, nrows*2))\n",
    "\n",
    "for n in range(nrows):\n",
    "    axarr[n].plot(plotData.index, plotData.iloc[:,n], \n",
    "                  label = plotData.iloc[:,n].name\n",
    "                  + ', Location: ' + Location[plotData.iloc[:,n].name]\n",
    "                  + ', Slope: ' + Slope[plotData.iloc[:,n].name]\n",
    "                  + ', Species: ' + Species[plotData.iloc[:,n].name]\n",
    "                  + ', TreeID: ' + TreeID[plotData.iloc[:,n].name])\n",
    "    axarr[n].legend(bbox_to_anchor=(1, 1.2))\n",
    " #axarr[0].set_ylabel(\"Sapflow velocity [cm / hr]\")\n",
    "plt.show()\n",
    "    \n"
   ]
  },
  {
   "cell_type": "code",
   "execution_count": null,
   "metadata": {
    "collapsed": false
   },
   "outputs": [],
   "source": [
    "## Import from mySQL database precipitation, solar radiation for similar time period\n",
    "#Convert datetime stamps to strings for the sql query\n",
    "dateStart = str(startDateTime.year) + '-' + str(startDateTime.month) + '-' + str(startDateTime.day)\n",
    "dateStop =  str(stopDateTime.year) + '-' + str(stopDateTime.month) + '-' + str(stopDateTime.day)\n",
    "\n",
    "#here we make use of external .py file with odmquery function (thanks Collin!) to get data from the database\n",
    "#1672 = cumulative WY precip, in mm\n",
    "#1785 = Rainfall mm TB4 WSAM RWS_Rain_TB4_Tot2015-03-26 (ongoing)Rainfall mmAngelo Meadow WSwsam0 to 700TB4mm-L Rain Gage\n",
    "#1674\tSolar Radiation Net W/m^2 Raw WSAM angelo meadow\n",
    "\n",
    "#1687\tWell 5 Water Level m\n",
    "#1688\tWell 6 Water Level m\n",
    "#1689\tWell 7 Water Level m\n",
    "well5 = databaseQuery.odmquery(dateStart, dateStop, '1687', True)\n",
    "well5.rename(columns = {'DataValue': 'well5'})\n",
    "well6 = databaseQuery.odmquery(dateStart, dateStop, '1688', True)\n",
    "well6.rename(columns = {'DataValue': 'well6'})\n",
    "well7 = databaseQuery.odmquery(dateStart, dateStop, '1689', True)\n",
    "well7.rename(columns = {'DataValue': 'well7'})\n",
    "\n",
    "rain = databaseQuery.odmquery(dateStart, dateStop, '1785', True)\n",
    "sun = databaseQuery.odmquery(dateStart, dateStop, '1674', True)\n",
    "#Resample to daily rainfall\n",
    "dailyRainfall = rain.resample('D', how=lambda x: x.sum())\n",
    "maxSun = sun.resample('D', how = lambda x:x.max())"
   ]
  },
  {
   "cell_type": "code",
   "execution_count": null,
   "metadata": {
    "collapsed": false
   },
   "outputs": [],
   "source": []
  },
  {
   "cell_type": "code",
   "execution_count": null,
   "metadata": {
    "collapsed": false
   },
   "outputs": [],
   "source": [
    "## Trim outliers from data series by percentile cutoff\n",
    "lowerPercentile = 0.025\n",
    "upperPercentile = 0.99\n",
    "\n",
    "sapflowLower = level4b.quantile(lowerPercentile)\n",
    "sapflowUpper = level4b.quantile(upperPercentile)\n",
    "# Level 4c = trim outliers\n",
    "level4c = level4b [(level4b > sapflowLower) \n",
    "                 & (level4b < sapflowUpper)]\n",
    "\n",
    "    \n",
    "\n",
    "\n",
    "\n",
    "plotData = level4c.copy()\n",
    "%matplotlib inline\n",
    "nrows = len(plotData.columns)\n",
    "f, axarr = plt.subplots(nrows, sharex=True, figsize=(20, nrows*2))\n",
    "\n",
    "for n in range(nrows):\n",
    "    if Display[plotData.iloc[:,n].name] == 'yes':\n",
    "        axarr[n].plot(plotData.index, plotData.iloc[:,n], \n",
    "                      label = plotData.iloc[:,n].name\n",
    "                      + ', Location: ' + Location[plotData.iloc[:,n].name]\n",
    "                      + ', Slope: ' + Slope[plotData.iloc[:,n].name]\n",
    "                      + ', Species: ' + Species[plotData.iloc[:,n].name]\n",
    "                      + ', TreeID: ' + TreeID[plotData.iloc[:,n].name])\n",
    "        axarr[n].legend(bbox_to_anchor=(1, 1.2))\n",
    " #axarr[0].set_ylabel(\"Sapflow velocity [cm / hr]\")\n",
    "plt.show()\n",
    "    \n"
   ]
  },
  {
   "cell_type": "code",
   "execution_count": null,
   "metadata": {
    "collapsed": false,
    "scrolled": true
   },
   "outputs": [],
   "source": [
    "## Normalize values: LEVEL 4D\n",
    "sapflowMin = level4c.apply(np.min)\n",
    "\n",
    "#center to zero\n",
    "centered = level4c-sapflowMin\n",
    "\n",
    "\n",
    "#Divide by maximum\n",
    "sapflowMax = centered.apply(np.max)\n",
    "\n",
    "level4d = centered.divide(sapflowMax)\n",
    "\n",
    "plotData = level4d.copy()\n",
    "%matplotlib inline\n",
    "nrows = len(plotData.columns)\n",
    "f, axarr = plt.subplots(nrows, sharex=True, figsize=(20, nrows*2))\n",
    "\n",
    "for n in range(nrows):\n",
    "    axarr[n].plot(plotData.index, plotData.iloc[:,n], \n",
    "                  label = plotData.iloc[:,n].name\n",
    "                  + ', Location: ' + Location[plotData.iloc[:,n].name]\n",
    "                  + ', Slope: ' + Slope[plotData.iloc[:,n].name]\n",
    "                  + ', Species: ' + Species[plotData.iloc[:,n].name]\n",
    "                  + ', TreeID: ' + TreeID[plotData.iloc[:,n].name])\n",
    "    axarr[n].legend(bbox_to_anchor=(1, 1.2))\n",
    " #axarr[0].set_ylabel(\"Sapflow velocity [cm / hr]\")\n",
    "plt.show()\n",
    "    \n",
    "\n",
    "\n",
    "\n",
    "\n",
    "## Plot the data\n",
    "%matplotlib qt\n",
    "Plot = plotData.plot(alpha=.2)\n",
    "Plot.set_ylabel(\"Sapflow velocity (normalized to max)\")\n",
    "for item in Plot.get_xticklabels():\n",
    "    item.set_rotation(-45)\n",
    "Plot.legend(bbox_to_anchor=(1.5, 1.5))\n"
   ]
  },
  {
   "cell_type": "code",
   "execution_count": null,
   "metadata": {
    "collapsed": false,
    "scrolled": true
   },
   "outputs": [],
   "source": [
    "## Plot daily maxima\n",
    "daily = plotData.resample('D', how=lambda x: x.max())\n",
    "\n",
    "Plot = daily.plot(alpha=0.1)\n",
    "Plot.set_ylabel(\"Daily maximum sapflow velocity (normalized to max)\")\n",
    "for item in Plot.get_xticklabels():\n",
    "    item.set_rotation(-45)\n",
    "Plot.legend(bbox_to_anchor=(1.5, 1.5))\n",
    "\n",
    "#moving window average\n",
    "dailyWindow = pd.rolling_mean(daily, window=5).shift(-2)\n",
    "## Plot the data\n",
    "%matplotlib qt\n",
    "Plot = dailyWindow.plot()\n",
    "Plot.set_ylabel(\"Sapflow velocity (normalized to max), five day moving window\")\n",
    "for item in Plot.get_xticklabels():\n",
    "    item.set_rotation(-45)\n",
    "Plot.legend(bbox_to_anchor=(1.5, 1.5))\n",
    "#mpld3.display()"
   ]
  },
  {
   "cell_type": "code",
   "execution_count": null,
   "metadata": {
    "collapsed": false
   },
   "outputs": [],
   "source": []
  },
  {
   "cell_type": "code",
   "execution_count": null,
   "metadata": {
    "collapsed": false
   },
   "outputs": [],
   "source": [
    "plotData = dailyNorm.copy()\n",
    "%matplotlib qt\n",
    "speciesList = list(set(Species.values()))\n",
    "nrows = len(speciesList)\n",
    "f, axarr = plt.subplots(nrows+1, sharex=True, figsize=(20, nrows*2))\n",
    "\n",
    "for column in plotData:\n",
    "    if Display[column] == 'yes':\n",
    "        if Location[column] == 'Sagehorn':\n",
    "            ls = '--'\n",
    "        else:\n",
    "            ls = '-'\n",
    "        if Slope[column] == 'South':\n",
    "            c = 'r'\n",
    "        else:\n",
    "            c = 'b'\n",
    "\n",
    "        axarr[speciesList.index(Species[column])].plot(\n",
    "                      plotData.index, \n",
    "                      plotData[column], \n",
    "                      color = c,\n",
    "                      linestyle = ls)\n",
    "        axarr[speciesList.index(Species[column])].legend(bbox_to_anchor=(1, 1.2))\n",
    "\n",
    "    \n",
    "axarr[-1].plot(dailyRainfall.index, dailyRainfall['DataValue'], color='b')\n",
    "axarr[-1].set_ylabel('Daily Rainfall [mm]')\n",
    "axarr[-1].set_title('Solid=Rivendell; Dashed=Sagehorn; Red=South slope; Blue=North slope')\n",
    "ax2 = axarr[-1].twinx()\n",
    "ax2.plot(maxSun.index, maxSun['DataValue'], color='y')\n",
    "ax2.plot(rain.index, rain['DataValue'].cumsum(), color = 'b')\n",
    "ax2.set_ylabel('Daily Peak Radiation [W m^-2]; Cumulative Rain [mm]')\n",
    "\n",
    "for n in range(nrows): \n",
    "    axarr[n].set_title(speciesList[n])\n",
    "    \n",
    "for n in range(nrows+1): \n",
    "#     axarr[n].yaxis.grid(color='gray', linestyle='dashed')\n",
    "    axarr[n].xaxis.grid(color='gray', linestyle='dashed')\n",
    "    \n",
    "    \n",
    "axarr[2].set_ylabel('Individual Sensor Normalized Maximum Daily Sapflow Velocity')\n",
    "plt.show()\n"
   ]
  },
  {
   "cell_type": "code",
   "execution_count": null,
   "metadata": {
    "collapsed": false
   },
   "outputs": [],
   "source": [
    "## Plot the data\n",
    "\n",
    "Plot = dailyRainfall.plot()\n",
    "Plot.set_ylabel(\"DailyRainfall [mm]\")\n",
    "for item in Plot.get_xticklabels():\n",
    "    item.set_rotation(-45)\n",
    "Plot.legend(bbox_to_anchor=(1.5, 1.5))\n",
    "\n",
    "\n",
    "Plot = dailyWindow.plot()\n",
    "Plot.set_ylabel(\"Sapflow velocity [Normalized], 5 day running maximum\")\n",
    "for item in Plot.get_xticklabels():\n",
    "    item.set_rotation(-45)\n",
    "Plot.legend(bbox_to_anchor=(1.5, 1.5))\n"
   ]
  },
  {
   "cell_type": "code",
   "execution_count": null,
   "metadata": {
    "collapsed": false
   },
   "outputs": [],
   "source": [
    "level4c.tail()"
   ]
  },
  {
   "cell_type": "code",
   "execution_count": null,
   "metadata": {
    "collapsed": true
   },
   "outputs": [],
   "source": [
    "daily = level4d.resample(rule='24H', how='mean', closed='left', label='left', base=6)"
   ]
  },
  {
   "cell_type": "code",
   "execution_count": null,
   "metadata": {
    "collapsed": true
   },
   "outputs": [],
   "source": [
    "daynite = level4d.resample(rule='12H', how='mean', closed='left', label='left', base=6)"
   ]
  },
  {
   "cell_type": "code",
   "execution_count": null,
   "metadata": {
    "collapsed": true
   },
   "outputs": [],
   "source": [
    "weekly = level4d.resample(rule='1W', how='mean', closed='left', label='left')"
   ]
  },
  {
   "cell_type": "code",
   "execution_count": null,
   "metadata": {
    "collapsed": false
   },
   "outputs": [],
   "source": [
    "monthly = level4d.resample(rule='1M', how='mean', closed='left', label='left')"
   ]
  },
  {
   "cell_type": "code",
   "execution_count": null,
   "metadata": {
    "collapsed": false
   },
   "outputs": [],
   "source": [
    "grouper = pd.TimeGrouper('24H', base=6)"
   ]
  },
  {
   "cell_type": "code",
   "execution_count": null,
   "metadata": {
    "collapsed": true
   },
   "outputs": [],
   "source": [
    "dailyNorm = level4d.groupby(grouper).transform(lambda x: x/x.sum())"
   ]
  },
  {
   "cell_type": "code",
   "execution_count": null,
   "metadata": {
    "collapsed": false
   },
   "outputs": [],
   "source": [
    "dailyNorm.plot()"
   ]
  },
  {
   "cell_type": "markdown",
   "metadata": {},
   "source": [
    "Questions:\n",
    "\n",
    "What percentage of transpiration occurs at night throughout the year?\n",
    "\n",
    "How does this vary as a function of mean night-time relative humidity and temperature?\n",
    "\n",
    "What contributes to declines in mean transpiration more: decreases in length of day or rainy/sunless days?\n"
   ]
  },
  {
   "cell_type": "code",
   "execution_count": null,
   "metadata": {
    "collapsed": false,
    "scrolled": true
   },
   "outputs": [],
   "source": [
    "well5.plot()"
   ]
  },
  {
   "cell_type": "code",
   "execution_count": null,
   "metadata": {
    "collapsed": false
   },
   "outputs": [],
   "source": [
    "# %% WELL EXAM\n",
    "plotData = level4d.copy()\n",
    "#plotData = plotData.join(sun, how='outer')\n",
    "plotStart = '2015-08-20'\n",
    "plotStop = '2015-08-24'\n",
    "plotData = plotData[(plotData.index > plotStart) &\n",
    "                    (plotData.index < plotStop)]\n",
    "plotSun = sun[(sun.index > plotStart) &\n",
    "                    (sun.index < plotStop)]\n",
    "plotWell5 = well5[(well5.index > plotStart) &\n",
    "                    (well5.index < plotStop)]\n",
    "plotWell6 = well6[(well6.index > plotStart) &\n",
    "                    (well6.index < plotStop)]\n",
    "plotWell7 = well7[(well7.index > plotStart) &\n",
    "                    (well7.index < plotStop)]\n",
    "\n",
    "\n",
    "%matplotlib qt\n",
    "speciesList = list(set(Species.values()))\n",
    "nrows = len(speciesList)\n",
    "f, axarr = plt.subplots(nrows+1, sharex=True, figsize=(5, nrows*2))\n",
    "\n",
    "for column in plotData:\n",
    "    if Display[column] == 'yes':\n",
    "        if Location[column] == 'Rivendell':\n",
    "            ls = '-'\n",
    "            if Slope[column] == 'North':\n",
    "                c = 'b'\n",
    "\n",
    "\n",
    "                axarr[speciesList.index(Species[column])].plot(\n",
    "                              plotData.index, \n",
    "                              plotData[column], \n",
    "                              color = c,\n",
    "                              linestyle = ls)\n",
    "                axarr[speciesList.index(Species[column])].legend(bbox_to_anchor=(1, 1.2))\n",
    "\n",
    "\n",
    "\n",
    "axarr[-1].plot(plotSun.index, plotSun['DataValue'], color='y')\n",
    "axarr[-1].set_title('North Slope Rivendell Trees')\n",
    "axarr[-1].set_ylabel('Radiation [W m^-2]')\n",
    "\n",
    "\n",
    "for n in range(nrows): \n",
    "    axarr[n].set_title(speciesList[n])\n",
    "    \n",
    "for n in range(nrows+1): \n",
    "#     axarr[n].yaxis.grid(color='gray', linestyle='dashed')\n",
    "    axarr[n].xaxis.grid(color='gray', linestyle='dashed')\n",
    "    \n",
    "#axarr[1].plot(plotWell5.index, plotWell5['DataValue']-plotWell5['DataValue'][0], label='5')\n",
    "#axarr[1].plot(plotWell6.index, plotWell6['DataValue']-plotWell6['DataValue'][0], label='6')\n",
    "axarr[1].plot(plotWell7.index, plotWell7['DataValue'], label='7')\n",
    "axarr[1].legend(bbox_to_anchor=(1.1, 1.2))\n",
    "axarr[1].set_title('Wells: August 10-20, 2015')\n",
    "\n",
    "axarr[2].set_ylabel('Individual Sensor Normalized Maximum Daily Sapflow Velocity')\n",
    "plt.show()\n"
   ]
  },
  {
   "cell_type": "code",
   "execution_count": null,
   "metadata": {
    "collapsed": true
   },
   "outputs": [],
   "source": []
  }
 ],
 "metadata": {
  "kernelspec": {
   "display_name": "Python 2",
   "language": "python",
   "name": "python2"
  },
  "language_info": {
   "codemirror_mode": {
    "name": "ipython",
    "version": 2
   },
   "file_extension": ".py",
   "mimetype": "text/x-python",
   "name": "python",
   "nbconvert_exporter": "python",
   "pygments_lexer": "ipython2",
   "version": "2.7.11"
  }
 },
 "nbformat": 4,
 "nbformat_minor": 0
}
