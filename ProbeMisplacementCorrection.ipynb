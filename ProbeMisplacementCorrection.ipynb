{
 "cells": [
  {
   "cell_type": "markdown",
   "metadata": {},
   "source": [
    "Here we follow a procedure outlined in matlab code by P Link, who followed excel worksheets by A Ambrose and Burgess et al Tree Phys. 2001"
   ]
  },
  {
   "cell_type": "markdown",
   "metadata": {},
   "source": [
    "$$V_h = \\frac{k}{x}ln(v_1/v_2)3600$$  - Eq. 2, Burgss et al, from Marshall 1958"
   ]
  },
  {
   "cell_type": "markdown",
   "metadata": {},
   "source": [
    "Where $V_h$ = heat pulse velocity (which is reported in cm/hour from ICT loggers) (L/T)\n",
    "\n",
    "$k$ is thermal diffusivity of green (fresh) wood\n",
    "\n",
    "$x$ is distance (L) between heater and either temperature probe\n",
    "\n",
    "$v_1$ and $v_2$ are increases in temperature (from initial temperatures) at equidistant points downstream and upstream, respectively, x cm from the heater.\n",
    "\n",
    "x is typically 0.6 cm; k is assigned nominal value of 2.5 x 10^-3 cm^2 s^-1; value adjusted after measurement"
   ]
  },
  {
   "cell_type": "markdown",
   "metadata": {},
   "source": [
    "At $V_h$ = 0, which can be imposed by:\n",
    "\n",
    "1) severing xylem\n",
    "\n",
    "2) assuming 0 predawn, 92-95% humidity\n",
    "\n",
    "\n",
    "$$x_2 = \\sqrt{4 kt ln(v_1/v_2)+x_1^2}$$\n",
    "\n",
    "-Eq. 3, Burgess et al 2001\n",
    "\n",
    "Where $x_2$ denotes the incorrectly spaced probe, and  $x_1$ is assumed to be correctly spaced at 0.6 m, and t is measurement time"
   ]
  },
  {
   "cell_type": "code",
   "execution_count": 2,
   "metadata": {
    "collapsed": true
   },
   "outputs": [],
   "source": [
    "import numpy as np\n",
    "# parameters\n",
    "k = 2.5e-3; # thermal diffusivity of fresh wood, cm^2/s, from Burgess 2001 - preliminary estimate, should be refined with measurements\n",
    "t = 80; # 80 seconds measurement time, from p.591 in Burgess 2001\n",
    "xnom = 0.6; # nominal probe spacing, in cm\n"
   ]
  },
  {
   "cell_type": "code",
   "execution_count": 3,
   "metadata": {
    "collapsed": true
   },
   "outputs": [],
   "source": [
    "zeroavg = -3 #cm/h\n",
    "lnv1v2 = zeroavg*xnom/k/3600;\n"
   ]
  },
  {
   "cell_type": "code",
   "execution_count": 4,
   "metadata": {
    "collapsed": false
   },
   "outputs": [
    {
     "name": "stdout",
     "output_type": "stream",
     "text": [
      "0.721110255093 -0.4472135955\n"
     ]
    }
   ],
   "source": [
    "x1 = np.sqrt(xnom**2-4*k*t*lnv1v2);\n",
    "x2 = -np.sqrt(4*k*t*lnv1v2+xnom**2);\n",
    "print x1, x2"
   ]
  },
  {
   "cell_type": "code",
   "execution_count": 5,
   "metadata": {
    "collapsed": false
   },
   "outputs": [],
   "source": [
    "vrange = np.linspace(0,20,200);\n",
    "lnv1v2 = vrange*xnom/3600/k;\n"
   ]
  },
  {
   "cell_type": "code",
   "execution_count": 12,
   "metadata": {
    "collapsed": false
   },
   "outputs": [],
   "source": [
    "veloc1s = (4*k*t*lnv1v2-(-xnom)**2+x1**2)*3600/(2*t*(x1-(-xnom)));\n",
    "veloc2s = (4*k*t*lnv1v2-(x2)**2+xnom**2)*3600/(2*t*(xnom-x2));\n",
    "\n",
    "vrange_corr = (veloc1s+veloc2s)/2;\n",
    "\n",
    "p = np.polyfit(vrange,vrange_corr,1);\n",
    "slope_shallow = p[0];\n",
    "int_shallow = p[1];\n"
   ]
  },
  {
   "cell_type": "code",
   "execution_count": 13,
   "metadata": {
    "collapsed": false
   },
   "outputs": [
    {
     "ename": "NameError",
     "evalue": "name 'originalVelocities' is not defined",
     "output_type": "error",
     "traceback": [
      "\u001b[1;31m---------------------------------------------------------------------------\u001b[0m",
      "\u001b[1;31mNameError\u001b[0m                                 Traceback (most recent call last)",
      "\u001b[1;32m<ipython-input-13-bd7f23d55545>\u001b[0m in \u001b[0;36m<module>\u001b[1;34m()\u001b[0m\n\u001b[1;32m----> 1\u001b[1;33m \u001b[0mcorrectedVelocities\u001b[0m \u001b[1;33m=\u001b[0m \u001b[0moriginalVelocities\u001b[0m \u001b[1;33m*\u001b[0m \u001b[0mslope\u001b[0m \u001b[1;33m+\u001b[0m \u001b[0mintercept\u001b[0m\u001b[1;33m\u001b[0m\u001b[0m\n\u001b[0m",
      "\u001b[1;31mNameError\u001b[0m: name 'originalVelocities' is not defined"
     ]
    }
   ],
   "source": [
    "correctedVelocities = originalVelocities * slope + intercept"
   ]
  },
  {
   "cell_type": "code",
   "execution_count": 25,
   "metadata": {
    "collapsed": false
   },
   "outputs": [
    {
     "ename": "AttributeError",
     "evalue": "'list' object has no attribute 'set_ylabel'",
     "output_type": "error",
     "traceback": [
      "\u001b[1;31m---------------------------------------------------------------------------\u001b[0m",
      "\u001b[1;31mAttributeError\u001b[0m                            Traceback (most recent call last)",
      "\u001b[1;32m<ipython-input-25-f00490642324>\u001b[0m in \u001b[0;36m<module>\u001b[1;34m()\u001b[0m\n\u001b[0;32m      4\u001b[0m \u001b[0max\u001b[0m \u001b[1;33m=\u001b[0m \u001b[0mplt\u001b[0m\u001b[1;33m.\u001b[0m\u001b[0mplot\u001b[0m\u001b[1;33m(\u001b[0m\u001b[0mvrange\u001b[0m\u001b[1;33m,\u001b[0m \u001b[0mvrange_corr\u001b[0m\u001b[1;33m)\u001b[0m\u001b[1;33m\u001b[0m\u001b[0m\n\u001b[0;32m      5\u001b[0m \u001b[1;31m#ax = plt.plot(np.linspace(1,20,20), slope*20 + )\u001b[0m\u001b[1;33m\u001b[0m\u001b[1;33m\u001b[0m\u001b[0m\n\u001b[1;32m----> 6\u001b[1;33m \u001b[0max\u001b[0m\u001b[1;33m.\u001b[0m\u001b[0mset_ylabel\u001b[0m\u001b[1;33m(\u001b[0m\u001b[1;34m'a'\u001b[0m\u001b[1;33m)\u001b[0m\u001b[1;33m\u001b[0m\u001b[0m\n\u001b[0m",
      "\u001b[1;31mAttributeError\u001b[0m: 'list' object has no attribute 'set_ylabel'"
     ]
    },
    {
     "data": {
      "image/png": "[encoded data removed]",
      "text/plain": [
       "<matplotlib.figure.Figure at 0xbad6898>"
      ]
     },
     "metadata": {},
     "output_type": "display_data"
    }
   ],
   "source": [
    "import matplotlib.pyplot as plt\n",
    "%matplotlib inline\n",
    "fig = plt.figure()\n",
    "ax = plt.plot(vrange, vrange_corr)\n",
    "#ax = plt.plot(np.linspace(1,20,20), slope*20 + )\n",
    "ax.set_xlabel('raw')\n",
    "ax.set_ylabel('corrected')"
   ]
  },
  {
   "cell_type": "code",
   "execution_count": null,
   "metadata": {
    "collapsed": true
   },
   "outputs": [],
   "source": []
  }
 ],
 "metadata": {
  "kernelspec": {
   "display_name": "Python 2",
   "language": "python",
   "name": "python2"
  },
  "language_info": {
   "codemirror_mode": {
    "name": "ipython",
    "version": 2
   },
   "file_extension": ".py",
   "mimetype": "text/x-python",
   "name": "python",
   "nbconvert_exporter": "python",
   "pygments_lexer": "ipython2",
   "version": "2.7.10"
  }
 },
 "nbformat": 4,
 "nbformat_minor": 0
}
