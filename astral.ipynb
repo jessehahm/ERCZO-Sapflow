{
 "cells": [
  {
   "cell_type": "code",
   "execution_count": 1,
   "metadata": {
    "collapsed": true
   },
   "outputs": [],
   "source": [
    ">>> import datetime\n",
    ">>> from astral import Astral"
   ]
  },
  {
   "cell_type": "code",
   "execution_count": 3,
   "metadata": {
    "collapsed": true
   },
   "outputs": [],
   "source": [
    "city_name = 'San Francisco'\n"
   ]
  },
  {
   "cell_type": "code",
   "execution_count": 6,
   "metadata": {
    "collapsed": true
   },
   "outputs": [],
   "source": [
    "a = Astral()\n",
    "a.solar_depression = 'civil'"
   ]
  },
  {
   "cell_type": "code",
   "execution_count": 7,
   "metadata": {
    "collapsed": true
   },
   "outputs": [],
   "source": [
    "city = a[city_name]"
   ]
  },
  {
   "cell_type": "code",
   "execution_count": 10,
   "metadata": {
    "collapsed": false
   },
   "outputs": [],
   "source": [
    "sun = city.sun(date = datetime.date(2009,4,22), local=False)"
   ]
  },
  {
   "cell_type": "code",
   "execution_count": 11,
   "metadata": {
    "collapsed": false
   },
   "outputs": [
    {
     "data": {
      "text/plain": [
       "{'dawn': datetime.datetime(2009, 4, 22, 12, 56, 18, tzinfo=<UTC>),\n",
       " 'dusk': datetime.datetime(2009, 4, 23, 3, 19, 44, tzinfo=<UTC>),\n",
       " 'noon': datetime.datetime(2009, 4, 22, 20, 8, 4, tzinfo=<UTC>),\n",
       " 'sunrise': datetime.datetime(2009, 4, 22, 13, 23, 55, tzinfo=<UTC>),\n",
       " 'sunset': datetime.datetime(2009, 4, 23, 2, 52, 7, tzinfo=<UTC>)}"
      ]
     },
     "execution_count": 11,
     "metadata": {},
     "output_type": "execute_result"
    }
   ],
   "source": [
    "sun"
   ]
  },
  {
   "cell_type": "code",
   "execution_count": null,
   "metadata": {
    "collapsed": true
   },
   "outputs": [],
   "source": []
  }
 ],
 "metadata": {
  "kernelspec": {
   "display_name": "Python 2",
   "language": "python",
   "name": "python2"
  },
  "language_info": {
   "codemirror_mode": {
    "name": "ipython",
    "version": 2
   },
   "file_extension": ".py",
   "mimetype": "text/x-python",
   "name": "python",
   "nbconvert_exporter": "python",
   "pygments_lexer": "ipython2",
   "version": "2.7.11"
  }
 },
 "nbformat": 4,
 "nbformat_minor": 0
}
